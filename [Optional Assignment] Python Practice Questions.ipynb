{
  "nbformat": 4,
  "nbformat_minor": 0,
  "metadata": {
    "colab": {
      "name": "first assignment.ipynb",
      "provenance": [],
      "collapsed_sections": []
    },
    "kernelspec": {
      "name": "python3",
      "display_name": "Python 3"
    }
  },
  "cells": [
    {
      "cell_type": "markdown",
      "metadata": {
        "id": "elKFlhFUYXel"
      },
      "source": [
        "1. Write a function that inputs a number and prints the multiplication table of that number"
      ]
    },
    {
      "cell_type": "code",
      "metadata": {
        "colab": {
          "base_uri": "https://localhost:8080/"
        },
        "id": "VOA4DCv1YcN6",
        "outputId": "a2edceee-9f87-4bba-8f31-b1627d46bf59"
      },
      "source": [
        "def multiplication_table(digit):\r\n",
        "    \"\"\"this function gives the multiplication table of a given number\"\"\"\r\n",
        "    for i in range(1,21):\r\n",
        "        print(digit, '*', i , ' = ' ,digit*i)\r\n",
        "digit=int(input(\"enter the number to get multiplication table: \"))\r\n",
        "multiplication_table(digit)"
      ],
      "execution_count": 7,
      "outputs": [
        {
          "output_type": "stream",
          "text": [
            "enter the number to get multiplication table: 409\n",
            "409 * 1  =  409\n",
            "409 * 2  =  818\n",
            "409 * 3  =  1227\n",
            "409 * 4  =  1636\n",
            "409 * 5  =  2045\n",
            "409 * 6  =  2454\n",
            "409 * 7  =  2863\n",
            "409 * 8  =  3272\n",
            "409 * 9  =  3681\n",
            "409 * 10  =  4090\n",
            "409 * 11  =  4499\n",
            "409 * 12  =  4908\n",
            "409 * 13  =  5317\n",
            "409 * 14  =  5726\n",
            "409 * 15  =  6135\n",
            "409 * 16  =  6544\n",
            "409 * 17  =  6953\n",
            "409 * 18  =  7362\n",
            "409 * 19  =  7771\n",
            "409 * 20  =  8180\n"
          ],
          "name": "stdout"
        }
      ]
    },
    {
      "cell_type": "markdown",
      "metadata": {
        "id": "1KrR8Q5AYpxE"
      },
      "source": [
        "2. Write a program to print twin primes less than 1000. If two consecutive odd numbers are\r\n",
        "both prime then they are known as twin primes"
      ]
    },
    {
      "cell_type": "code",
      "metadata": {
        "colab": {
          "base_uri": "https://localhost:8080/"
        },
        "id": "DJzJ3PcQYwt7",
        "outputId": "3e2a8a65-58e5-4942-d422-501d061e4cb0"
      },
      "source": [
        "def prime_number(digit):\r\n",
        "    \"\"\"this function gives the twin prime numbers less than 1000 numbers\"\"\"\r\n",
        "    for i in range(2,digit):\r\n",
        "        if digit % i == 0:\r\n",
        "            return False\r\n",
        "    return True\r\n",
        "\r\n",
        "def twin_prime(x, y):\r\n",
        "    for i in range(x,y):\r\n",
        "        j = i + 2\r\n",
        "        if(prime_number(i) and prime_number(j)):\r\n",
        "            print(\"The twin are  {0} and {1}\".format(i,j))\r\n",
        "twin_prime(2,1001)"
      ],
      "execution_count": 8,
      "outputs": [
        {
          "output_type": "stream",
          "text": [
            "The twin are  3 and 5\n",
            "The twin are  5 and 7\n",
            "The twin are  11 and 13\n",
            "The twin are  17 and 19\n",
            "The twin are  29 and 31\n",
            "The twin are  41 and 43\n",
            "The twin are  59 and 61\n",
            "The twin are  71 and 73\n",
            "The twin are  101 and 103\n",
            "The twin are  107 and 109\n",
            "The twin are  137 and 139\n",
            "The twin are  149 and 151\n",
            "The twin are  179 and 181\n",
            "The twin are  191 and 193\n",
            "The twin are  197 and 199\n",
            "The twin are  227 and 229\n",
            "The twin are  239 and 241\n",
            "The twin are  269 and 271\n",
            "The twin are  281 and 283\n",
            "The twin are  311 and 313\n",
            "The twin are  347 and 349\n",
            "The twin are  419 and 421\n",
            "The twin are  431 and 433\n",
            "The twin are  461 and 463\n",
            "The twin are  521 and 523\n",
            "The twin are  569 and 571\n",
            "The twin are  599 and 601\n",
            "The twin are  617 and 619\n",
            "The twin are  641 and 643\n",
            "The twin are  659 and 661\n",
            "The twin are  809 and 811\n",
            "The twin are  821 and 823\n",
            "The twin are  827 and 829\n",
            "The twin are  857 and 859\n",
            "The twin are  881 and 883\n"
          ],
          "name": "stdout"
        }
      ]
    },
    {
      "cell_type": "markdown",
      "metadata": {
        "id": "t0CO1FKYY7Yf"
      },
      "source": [
        "3. Write a program to find out the prime factors of a number. Example: prime factors of 56 -\r\n",
        "2, 2, 2, 7"
      ]
    },
    {
      "cell_type": "code",
      "metadata": {
        "colab": {
          "base_uri": "https://localhost:8080/"
        },
        "id": "B38n1EVLZDZ5",
        "outputId": "0a886553-3a4b-46e6-f79f-54c3d7448c42"
      },
      "source": [
        "def prime_factors(digit):\r\n",
        "    \"\"\"this fuction gives the prime factors of a given number\"\"\"\r\n",
        "    for i in range(1, digit+1):\r\n",
        "        if digit % i == 0:\r\n",
        "            print(i)\r\n",
        "digit=int(input(\"enter the number for prime factors: \"))\r\n",
        "prime_factors(digit)"
      ],
      "execution_count": 9,
      "outputs": [
        {
          "output_type": "stream",
          "text": [
            "enter the number for prime factors:9\n",
            "1\n",
            "3\n",
            "9\n"
          ],
          "name": "stdout"
        }
      ]
    },
    {
      "cell_type": "markdown",
      "metadata": {
        "id": "ksZ66F4LZMn3"
      },
      "source": [
        "4. Write a program to implement these formulae of permutations and combinations.\r\n",
        "Number of permutations of n objects taken r at a time: p(n, r) = n! / (n-r)!. Number of\r\n",
        "combinations of n objects taken r at a time is: c(n, r) = n! / (r!*(n-r)!) = p(n,r) / r!"
      ]
    },
    {
      "cell_type": "code",
      "metadata": {
        "colab": {
          "base_uri": "https://localhost:8080/"
        },
        "id": "CDE9miN3ZS_V",
        "outputId": "c8b035c7-666c-41ae-9d42-bed0e35dfaed"
      },
      "source": [
        "from itertools import permutations\r\n",
        "perm=permutations([1,2,3])\r\n",
        "for i in list(perm):\r\n",
        "    print(i)"
      ],
      "execution_count": 10,
      "outputs": [
        {
          "output_type": "stream",
          "text": [
            "(1, 2, 3)\n",
            "(1, 3, 2)\n",
            "(2, 1, 3)\n",
            "(2, 3, 1)\n",
            "(3, 1, 2)\n",
            "(3, 2, 1)\n"
          ],
          "name": "stdout"
        }
      ]
    },
    {
      "cell_type": "code",
      "metadata": {
        "colab": {
          "base_uri": "https://localhost:8080/"
        },
        "id": "oKqYNahDZYn_",
        "outputId": "4cac596a-14f2-4bca-f858-2485fa329a52"
      },
      "source": [
        "from itertools import combinations\r\n",
        "comb=combinations([1,2,3],2)\r\n",
        "for i in list(comb):\r\n",
        "    print(i)"
      ],
      "execution_count": 12,
      "outputs": [
        {
          "output_type": "stream",
          "text": [
            "(1, 2)\n",
            "(1, 3)\n",
            "(2, 3)\n"
          ],
          "name": "stdout"
        }
      ]
    },
    {
      "cell_type": "markdown",
      "metadata": {
        "id": "QPP9GYB_ZhVt"
      },
      "source": [
        "5. Write a function that converts a decimal number to binary number"
      ]
    },
    {
      "cell_type": "code",
      "metadata": {
        "colab": {
          "base_uri": "https://localhost:8080/"
        },
        "id": "GDpQ84vjZliu",
        "outputId": "47abb829-fb16-4e7c-af5a-e517a558a1c6"
      },
      "source": [
        "def decimal_to_binary(digit):\r\n",
        "    \"\"\"This function converts decimal number\r\n",
        "    to binary and prints it\"\"\"\r\n",
        "    if digit > 1:\r\n",
        "        decimal_to_binary(digit // 2)\r\n",
        "    print(digit % 2, end= '')\r\n",
        "y=int(input(\"enter the decimal number: \"))\r\n",
        "decimal_to_binary(y)"
      ],
      "execution_count": 14,
      "outputs": [
        {
          "output_type": "stream",
          "text": [
            "enter the decimal number: 409\n",
            "110011001"
          ],
          "name": "stdout"
        }
      ]
    },
    {
      "cell_type": "markdown",
      "metadata": {
        "id": "EUdP5i2fZ4PP"
      },
      "source": [
        "6. Write a function cubesum() that accepts an integer and returns the sum of the cubes of\r\n",
        "individual digits of that number. Use this function to make functions PrintArmstrong() and\r\n",
        "isArmstrong() to print Armstrong numbers and to find whether is an Armstrong number."
      ]
    },
    {
      "cell_type": "code",
      "metadata": {
        "colab": {
          "base_uri": "https://localhost:8080/"
        },
        "id": "o0ZWQu2hZ890",
        "outputId": "182edef8-ffde-409c-863b-46b93ea099c0"
      },
      "source": [
        "def cube_sum(i):\r\n",
        "    digit=0\r\n",
        "    while (i>0):\r\n",
        "        digit = digit+((i%10)*(i%10)*(i%10))\r\n",
        "        i=i//10\r\n",
        "        print(digit)\r\n",
        "\r\n",
        "def isArmstrong(i):\r\n",
        "    digit = 0\r\n",
        "    temp = i\r\n",
        "    while temp > 0:\r\n",
        "        ys = temp % 10\r\n",
        "        digit += ys ** 3\r\n",
        "        temp //= 10\r\n",
        "    if i == sum:\r\n",
        "        print(digit,\"is an Armstrong number\")\r\n",
        "    else:\r\n",
        "        print(digit,\"is not an Armstrong number\")\r\n",
        "\r\n",
        "def PrintArmstrong(i):\r\n",
        "    lower = 100\r\n",
        "    upper = 2000\r\n",
        "    for digit in range(lower , upper + 1):\r\n",
        "        order = len(str(digit))\r\n",
        "        digit = 0\r\n",
        "        temp = i\r\n",
        "        while temp > 0:\r\n",
        "            ys = temp % 10\r\n",
        "            digit += ys ** 3\r\n",
        "            temp //= 10\r\n",
        "    if  i== digit:\r\n",
        "        print(i)\r\n",
        "i =int(input(\"the sum of cubes of individual number:\"))\r\n",
        "cube_sum(i)\r\n",
        "isArmstrong(i)\r\n",
        "PrintArmstrong(i)"
      ],
      "execution_count": 22,
      "outputs": [
        {
          "output_type": "stream",
          "text": [
            "the sum of cubes of individual number:99\n",
            "729\n",
            "1458\n",
            "1458 is not an Armstrong number\n"
          ],
          "name": "stdout"
        }
      ]
    },
    {
      "cell_type": "markdown",
      "metadata": {
        "id": "y_aaMj4_aCdw"
      },
      "source": [
        "7. Write a function prodDigits() that inputs a number and returns the product of digits of that\r\n",
        "number."
      ]
    },
    {
      "cell_type": "code",
      "metadata": {
        "colab": {
          "base_uri": "https://localhost:8080/"
        },
        "id": "1mN2I4aLaETn",
        "outputId": "18fedfc6-56a5-45a6-8eb7-bf302f557c58"
      },
      "source": [
        "def prodDigits(n):\r\n",
        "    \"\"\"this function gives the product of given number\"\"\"\r\n",
        "    product = 1\r\n",
        "    \r\n",
        "    while (n != 0):\r\n",
        "        product = product * (n % 10)\r\n",
        "        n = n // 10\r\n",
        "        \r\n",
        "    return product\r\n",
        "    \r\n",
        "n=int(input(\"enter the number to get the product of a given number:\"))\r\n",
        "print(prodDigits(n))"
      ],
      "execution_count": 16,
      "outputs": [
        {
          "output_type": "stream",
          "text": [
            "enter the number to get the product of a given number:99\n",
            "81\n"
          ],
          "name": "stdout"
        }
      ]
    },
    {
      "cell_type": "markdown",
      "metadata": {
        "id": "_0Nl_NjpaXsI"
      },
      "source": [
        "8. If all digits of a number n are multiplied by each other repeating with the product, the one\r\n",
        "digit number obtained at last is called the multiplicative digital root of n. The number of\r\n",
        "times digits need to be multiplied to reach one digit is called the multiplicative\r\n",
        "persistance of n.\r\n",
        "Example: 86 -> 48 -> 32 -> 6 (MDR 6, MPersistence 3)\r\n",
        " 341 -> 12->2 (MDR 2, MPersistence 2)\r\n",
        "Using the function prodDigits() of previous exercise write functions MDR() and\r\n",
        "MPersistence() that input a number and return its multiplicative digital root and\r\n",
        "multiplicative persistence respectively"
      ]
    },
    {
      "cell_type": "code",
      "metadata": {
        "colab": {
          "base_uri": "https://localhost:8080/"
        },
        "id": "7rf1ZVM5abIO",
        "outputId": "3f458b0f-87bb-4db2-d194-58706a346936"
      },
      "source": [
        "def CandC(digit):\r\n",
        "    s = str(digit)\r\n",
        "    pers = 0\r\n",
        "    while len(s) > 1:\r\n",
        "        s = str(prodDigits(int(s)))\r\n",
        "        pers += 1\r\n",
        "    return int(s), pers\r\n",
        "\r\n",
        "digit = int(input(\"enter the number: \"))\r\n",
        "mdr, mper = CandC(digit)\r\n",
        "print(\"For {0} MDR is {1} and M Persistance is {2}\".format(digit, mdr, mper))"
      ],
      "execution_count": 24,
      "outputs": [
        {
          "output_type": "stream",
          "text": [
            "enter the number: 99\n",
            "For 99 MDR is 8 and M Persistance is 2\n"
          ],
          "name": "stdout"
        }
      ]
    },
    {
      "cell_type": "markdown",
      "metadata": {
        "id": "YA2gggdxajbM"
      },
      "source": [
        "9. Write a function sumPdivisors() that finds the sum of proper divisors of a number. Proper\r\n",
        "divisors of a number are those numbers by which the number is divisible, except the\r\n",
        "number itself. For example proper divisors of 36 are 1, 2, 3, 4, 6, 9, 18"
      ]
    },
    {
      "cell_type": "code",
      "metadata": {
        "colab": {
          "base_uri": "https://localhost:8080/"
        },
        "id": "ioGOuLznamgR",
        "outputId": "f1a20862-b2ac-46ba-ba78-d413ef7e2165"
      },
      "source": [
        "import math\r\n",
        "def sumPdivisors(num):\r\n",
        "    \"\"\"this function gives the sum of proper divisors of a number\"\"\"\r\n",
        "    result = 0\r\n",
        "    i = 2\r\n",
        "    while i<= (math.sqrt(num)): \r\n",
        "        if (num % i == 0): \r\n",
        "            if (i == (num / i)): \r\n",
        "                result = result + i\r\n",
        "            else : \r\n",
        "                result = result +  (i + num/i)\r\n",
        "        i = i + 1\r\n",
        "    return (result + 1)\r\n",
        "digit =int(input(\"enter the number to get the sum of proper divisors:\"))\r\n",
        "def prime_factors(digit):\r\n",
        "    \"\"\"this fuction gives the prime factors of a given number\"\"\"\r\n",
        "    for i in range(1, digit):\r\n",
        "        if digit % i == 0:\r\n",
        "            print(i)\r\n",
        "prime_factors(digit)\r\n",
        "print(\"The sum of digits:\")\r\n",
        "print (sumPdivisors(digit))"
      ],
      "execution_count": 18,
      "outputs": [
        {
          "output_type": "stream",
          "text": [
            "enter the number to get the sum of proper divisors:9\n",
            "1\n",
            "3\n",
            "The sum of digits:\n",
            "4\n"
          ],
          "name": "stdout"
        }
      ]
    },
    {
      "cell_type": "markdown",
      "metadata": {
        "id": "PuLzRUUdbRSK"
      },
      "source": [
        "10. A number is called perfect if the sum of proper divisors of that number is equal to the\r\n",
        "number. For example 28 is perfect number, since 1+2+4+7+14=28. Write a program to\r\n",
        "print all the perfect numbers in a given range"
      ]
    },
    {
      "cell_type": "code",
      "metadata": {
        "colab": {
          "base_uri": "https://localhost:8080/"
        },
        "id": "Ch4mUxUfbVYu",
        "outputId": "5b056702-042d-4102-f948-086d693ea09d"
      },
      "source": [
        "def perfect(n):\r\n",
        "    if n< 1:\r\n",
        "        return False\r\n",
        "    perfect_sum = 0\r\n",
        "    for i in range(1,n):\r\n",
        "        if n%i==0:\r\n",
        "            perfect_sum += i\r\n",
        "\r\n",
        "    return perfect_sum == n\r\n",
        "\r\n",
        "\r\n",
        "y = int(input('Enter minimum value: '))\r\n",
        "s = int(input('Enter maximum value: '))\r\n",
        "\r\n",
        "print('Perfect numbers from %d to %d are:' %(y, s))\r\n",
        "for i in range(y, s):\r\n",
        "    if perfect(i):\r\n",
        "        print(i, end=' ')"
      ],
      "execution_count": 23,
      "outputs": [
        {
          "output_type": "stream",
          "text": [
            "Enter minimum value: 1\n",
            "Enter maximum value: 1000\n",
            "Perfect numbers from 1 to 1000 are:\n",
            "6 28 496 "
          ],
          "name": "stdout"
        }
      ]
    },
    {
      "cell_type": "markdown",
      "metadata": {
        "id": "zAIvzTz2b3wo"
      },
      "source": [
        "11. Two different numbers are called amicable numbers if the sum of the proper divisors of\r\n",
        "each is equal to the other number. For example 220 and 284 are amicable numbers.\r\n",
        "Sum of proper divisors of 220 = 1+2+4+5+10+11+20+22+44+55+110 = 284\r\n",
        "Sum of proper divisors of 284 = 1+2+4+71+142 = 220\r\n",
        "Write a function to print pairs of amicable numbers in a range"
      ]
    },
    {
      "cell_type": "code",
      "metadata": {
        "colab": {
          "base_uri": "https://localhost:8080/"
        },
        "id": "LWWM2JHMb9Qt",
        "outputId": "3587dc60-b5c4-4f6b-a84a-c917d58ab5ac"
      },
      "source": [
        "def yands(a, r):\r\n",
        "    for num in range(a, r+1):\r\n",
        "        for num_ in range(num, r+1):\r\n",
        "            if num != num_:\r\n",
        "                if amicablePair(num, num_):\r\n",
        "                    print(num, num_)\r\n",
        "        \r\n",
        "def amicablePair(num1, num2):\r\n",
        "    return (sumPdivisors(num1) == num2) and (sumPdivisors(num2) == num1)\r\n",
        "a =int(input(\"enter the minimum value: \"))\r\n",
        "r =int(input(\"enter the maximum value: \"))\r\n",
        "yands(a, r)"
      ],
      "execution_count": 26,
      "outputs": [
        {
          "output_type": "stream",
          "text": [
            "enter the minimum value: 100\n",
            "enter the maximum value: 10000\n",
            "220 284\n",
            "1184 1210\n",
            "2620 2924\n",
            "5020 5564\n",
            "6232 6368\n"
          ],
          "name": "stdout"
        }
      ]
    },
    {
      "cell_type": "markdown",
      "metadata": {
        "id": "svPsiYumbu0-"
      },
      "source": [
        "12. Write a program which can filter odd numbers in a list by using filter function"
      ]
    },
    {
      "cell_type": "code",
      "metadata": {
        "colab": {
          "base_uri": "https://localhost:8080/"
        },
        "id": "ClsgqR0Dbxt5",
        "outputId": "d26deb42-48aa-4154-b543-58bf8164e066"
      },
      "source": [
        "ys = [11,23,45,23,64,22,11,24]\r\n",
        "odd_num = list(filter(lambda x: (x % 2 != 0), ys))\r\n",
        "print(\"Odd numbers in the list: \", ys)"
      ],
      "execution_count": 21,
      "outputs": [
        {
          "output_type": "stream",
          "text": [
            "Odd numbers in the list:  [11, 23, 45, 23, 64, 22, 11, 24]\n"
          ],
          "name": "stdout"
        }
      ]
    },
    {
      "cell_type": "markdown",
      "metadata": {
        "id": "kSl_JfETbmac"
      },
      "source": [
        "13. Write a program which can map() to make a list whose elements are cube of elements in\r\n",
        "a given list"
      ]
    },
    {
      "cell_type": "code",
      "metadata": {
        "colab": {
          "base_uri": "https://localhost:8080/"
        },
        "id": "UF27w6mEbpPk",
        "outputId": "4b212464-3f17-47c8-d221-8d30ecbf38cf"
      },
      "source": [
        "def cube(x):\r\n",
        "    \"\"\"this fuction elements are cube of elements in a given list using map() function\"\"\"\r\n",
        "    return x*x*x\r\n",
        "\r\n",
        "li = [1,2,3,4,5,6,7,8,9,10]\r\n",
        "li = map(cube,li)  \r\n",
        "print(list(li))"
      ],
      "execution_count": 20,
      "outputs": [
        {
          "output_type": "stream",
          "text": [
            "[1, 8, 27, 64, 125, 216, 343, 512, 729, 1000]\n"
          ],
          "name": "stdout"
        }
      ]
    },
    {
      "cell_type": "markdown",
      "metadata": {
        "id": "XAOxhk5kbcAO"
      },
      "source": [
        "14. Write a program which can map() and filter() to make a list whose elements are cube of\r\n",
        "even number in a given list"
      ]
    },
    {
      "cell_type": "code",
      "metadata": {
        "colab": {
          "base_uri": "https://localhost:8080/"
        },
        "id": "uA4saY3kbg3U",
        "outputId": "012cfef5-cf9d-4278-e3fc-6725f8a8b497"
      },
      "source": [
        "def even(x):\r\n",
        "    return x%2==0\r\n",
        "\r\n",
        "def cube(x):\r\n",
        "    \"\"\"this fuction elements are cube of elements in a given list using map() and filter() function\"\"\"\r\n",
        "    return x*x*x\r\n",
        "\r\n",
        "li = [1,2,3,4,5,6,7,8,9,10]\r\n",
        "li = map(cube,filter(even,li))   \r\n",
        "print(list(li))"
      ],
      "execution_count": 19,
      "outputs": [
        {
          "output_type": "stream",
          "text": [
            "[8, 64, 216, 512, 1000]\n"
          ],
          "name": "stdout"
        }
      ]
    }
  ]
}